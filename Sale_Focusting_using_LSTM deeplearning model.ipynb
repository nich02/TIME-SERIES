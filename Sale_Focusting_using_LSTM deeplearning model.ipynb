{
 "cells": [
  {
   "cell_type": "markdown",
   "metadata": {},
   "source": [
    "This is a Univariate focusting\n",
    "\n",
    "It aims at predicting the SALES of PRODUCTLINE using the using LSTM Algorthm and sales_data_sample dataset(dataset is publicly available on Kaggle)\n",
    "\n",
    "At the end of the project I will have a list of pridicted sales for each product i.e Motorcycles,Classic Cars..."
   ]
  },
  {
   "cell_type": "code",
   "execution_count": 1,
   "metadata": {},
   "outputs": [
    {
     "data": {
      "text/html": [
       "<div>\n",
       "<style scoped>\n",
       "    .dataframe tbody tr th:only-of-type {\n",
       "        vertical-align: middle;\n",
       "    }\n",
       "\n",
       "    .dataframe tbody tr th {\n",
       "        vertical-align: top;\n",
       "    }\n",
       "\n",
       "    .dataframe thead th {\n",
       "        text-align: right;\n",
       "    }\n",
       "</style>\n",
       "<table border=\"1\" class=\"dataframe\">\n",
       "  <thead>\n",
       "    <tr style=\"text-align: right;\">\n",
       "      <th></th>\n",
       "      <th>ORDERNUMBER</th>\n",
       "      <th>QUANTITYORDERED</th>\n",
       "      <th>PRICEEACH</th>\n",
       "      <th>ORDERLINENUMBER</th>\n",
       "      <th>SALES</th>\n",
       "      <th>ORDERDATE</th>\n",
       "      <th>STATUS</th>\n",
       "      <th>QTR_ID</th>\n",
       "      <th>MONTH_ID</th>\n",
       "      <th>YEAR_ID</th>\n",
       "      <th>...</th>\n",
       "      <th>ADDRESSLINE1</th>\n",
       "      <th>ADDRESSLINE2</th>\n",
       "      <th>CITY</th>\n",
       "      <th>STATE</th>\n",
       "      <th>POSTALCODE</th>\n",
       "      <th>COUNTRY</th>\n",
       "      <th>TERRITORY</th>\n",
       "      <th>CONTACTLASTNAME</th>\n",
       "      <th>CONTACTFIRSTNAME</th>\n",
       "      <th>DEALSIZE</th>\n",
       "    </tr>\n",
       "  </thead>\n",
       "  <tbody>\n",
       "    <tr>\n",
       "      <th>0</th>\n",
       "      <td>10107</td>\n",
       "      <td>30</td>\n",
       "      <td>95.70</td>\n",
       "      <td>2</td>\n",
       "      <td>2871.00</td>\n",
       "      <td>2/24/2003 0:00</td>\n",
       "      <td>Shipped</td>\n",
       "      <td>1</td>\n",
       "      <td>2</td>\n",
       "      <td>2003</td>\n",
       "      <td>...</td>\n",
       "      <td>897 Long Airport Avenue</td>\n",
       "      <td>NaN</td>\n",
       "      <td>NYC</td>\n",
       "      <td>NY</td>\n",
       "      <td>10022</td>\n",
       "      <td>USA</td>\n",
       "      <td>NaN</td>\n",
       "      <td>Yu</td>\n",
       "      <td>Kwai</td>\n",
       "      <td>Small</td>\n",
       "    </tr>\n",
       "    <tr>\n",
       "      <th>1</th>\n",
       "      <td>10121</td>\n",
       "      <td>34</td>\n",
       "      <td>81.35</td>\n",
       "      <td>5</td>\n",
       "      <td>2765.90</td>\n",
       "      <td>5/7/2003 0:00</td>\n",
       "      <td>Shipped</td>\n",
       "      <td>2</td>\n",
       "      <td>5</td>\n",
       "      <td>2003</td>\n",
       "      <td>...</td>\n",
       "      <td>59 rue de l'Abbaye</td>\n",
       "      <td>NaN</td>\n",
       "      <td>Reims</td>\n",
       "      <td>NaN</td>\n",
       "      <td>51100</td>\n",
       "      <td>France</td>\n",
       "      <td>EMEA</td>\n",
       "      <td>Henriot</td>\n",
       "      <td>Paul</td>\n",
       "      <td>Small</td>\n",
       "    </tr>\n",
       "    <tr>\n",
       "      <th>2</th>\n",
       "      <td>10134</td>\n",
       "      <td>41</td>\n",
       "      <td>94.74</td>\n",
       "      <td>2</td>\n",
       "      <td>3884.34</td>\n",
       "      <td>7/1/2003 0:00</td>\n",
       "      <td>Shipped</td>\n",
       "      <td>3</td>\n",
       "      <td>7</td>\n",
       "      <td>2003</td>\n",
       "      <td>...</td>\n",
       "      <td>27 rue du Colonel Pierre Avia</td>\n",
       "      <td>NaN</td>\n",
       "      <td>Paris</td>\n",
       "      <td>NaN</td>\n",
       "      <td>75508</td>\n",
       "      <td>France</td>\n",
       "      <td>EMEA</td>\n",
       "      <td>Da Cunha</td>\n",
       "      <td>Daniel</td>\n",
       "      <td>Medium</td>\n",
       "    </tr>\n",
       "    <tr>\n",
       "      <th>3</th>\n",
       "      <td>10145</td>\n",
       "      <td>45</td>\n",
       "      <td>83.26</td>\n",
       "      <td>6</td>\n",
       "      <td>3746.70</td>\n",
       "      <td>8/25/2003 0:00</td>\n",
       "      <td>Shipped</td>\n",
       "      <td>3</td>\n",
       "      <td>8</td>\n",
       "      <td>2003</td>\n",
       "      <td>...</td>\n",
       "      <td>78934 Hillside Dr.</td>\n",
       "      <td>NaN</td>\n",
       "      <td>Pasadena</td>\n",
       "      <td>CA</td>\n",
       "      <td>90003</td>\n",
       "      <td>USA</td>\n",
       "      <td>NaN</td>\n",
       "      <td>Young</td>\n",
       "      <td>Julie</td>\n",
       "      <td>Medium</td>\n",
       "    </tr>\n",
       "    <tr>\n",
       "      <th>4</th>\n",
       "      <td>10159</td>\n",
       "      <td>49</td>\n",
       "      <td>100.00</td>\n",
       "      <td>14</td>\n",
       "      <td>5205.27</td>\n",
       "      <td>10/10/2003 0:00</td>\n",
       "      <td>Shipped</td>\n",
       "      <td>4</td>\n",
       "      <td>10</td>\n",
       "      <td>2003</td>\n",
       "      <td>...</td>\n",
       "      <td>7734 Strong St.</td>\n",
       "      <td>NaN</td>\n",
       "      <td>San Francisco</td>\n",
       "      <td>CA</td>\n",
       "      <td>NaN</td>\n",
       "      <td>USA</td>\n",
       "      <td>NaN</td>\n",
       "      <td>Brown</td>\n",
       "      <td>Julie</td>\n",
       "      <td>Medium</td>\n",
       "    </tr>\n",
       "  </tbody>\n",
       "</table>\n",
       "<p>5 rows × 25 columns</p>\n",
       "</div>"
      ],
      "text/plain": [
       "   ORDERNUMBER  QUANTITYORDERED  PRICEEACH  ORDERLINENUMBER    SALES  \\\n",
       "0        10107               30      95.70                2  2871.00   \n",
       "1        10121               34      81.35                5  2765.90   \n",
       "2        10134               41      94.74                2  3884.34   \n",
       "3        10145               45      83.26                6  3746.70   \n",
       "4        10159               49     100.00               14  5205.27   \n",
       "\n",
       "         ORDERDATE   STATUS  QTR_ID  MONTH_ID  YEAR_ID  ...  \\\n",
       "0   2/24/2003 0:00  Shipped       1         2     2003  ...   \n",
       "1    5/7/2003 0:00  Shipped       2         5     2003  ...   \n",
       "2    7/1/2003 0:00  Shipped       3         7     2003  ...   \n",
       "3   8/25/2003 0:00  Shipped       3         8     2003  ...   \n",
       "4  10/10/2003 0:00  Shipped       4        10     2003  ...   \n",
       "\n",
       "                    ADDRESSLINE1  ADDRESSLINE2           CITY STATE  \\\n",
       "0        897 Long Airport Avenue           NaN            NYC    NY   \n",
       "1             59 rue de l'Abbaye           NaN          Reims   NaN   \n",
       "2  27 rue du Colonel Pierre Avia           NaN          Paris   NaN   \n",
       "3             78934 Hillside Dr.           NaN       Pasadena    CA   \n",
       "4                7734 Strong St.           NaN  San Francisco    CA   \n",
       "\n",
       "  POSTALCODE COUNTRY TERRITORY CONTACTLASTNAME CONTACTFIRSTNAME DEALSIZE  \n",
       "0      10022     USA       NaN              Yu             Kwai    Small  \n",
       "1      51100  France      EMEA         Henriot             Paul    Small  \n",
       "2      75508  France      EMEA        Da Cunha           Daniel   Medium  \n",
       "3      90003     USA       NaN           Young            Julie   Medium  \n",
       "4        NaN     USA       NaN           Brown            Julie   Medium  \n",
       "\n",
       "[5 rows x 25 columns]"
      ]
     },
     "execution_count": 1,
     "metadata": {},
     "output_type": "execute_result"
    }
   ],
   "source": [
    "import pandas as pd #linear algebra\n",
    "import numpy as np #data processing, CSV file\n",
    "import matplotlib.pyplot as plt\n",
    "import seaborn as sns\n",
    "import warnings\n",
    "warnings.filterwarnings(\"ignore\")\n",
    "\n",
    "salesdata=pd.read_csv(\"C:\\\\Users\\\\ADMIN\\\\Desktop\\\\sales_data.csv\", encoding= 'latin1')\n",
    "salesdata.head()\n"
   ]
  },
  {
   "cell_type": "code",
   "execution_count": null,
   "metadata": {},
   "outputs": [],
   "source": []
  },
  {
   "cell_type": "markdown",
   "metadata": {},
   "source": [
    "Understanding of the LSTM and its flow\n",
    "Sort the libraries\n",
    "Predict list"
   ]
  },
  {
   "cell_type": "code",
   "execution_count": 2,
   "metadata": {},
   "outputs": [
    {
     "data": {
      "text/plain": [
       "Index(['ORDERNUMBER', 'QUANTITYORDERED', 'PRICEEACH', 'ORDERLINENUMBER',\n",
       "       'SALES', 'ORDERDATE', 'STATUS', 'QTR_ID', 'MONTH_ID', 'YEAR_ID',\n",
       "       'PRODUCTLINE', 'MSRP', 'PRODUCTCODE', 'CUSTOMERNAME', 'PHONE',\n",
       "       'ADDRESSLINE1', 'ADDRESSLINE2', 'CITY', 'STATE', 'POSTALCODE',\n",
       "       'COUNTRY', 'TERRITORY', 'CONTACTLASTNAME', 'CONTACTFIRSTNAME',\n",
       "       'DEALSIZE'],\n",
       "      dtype='object')"
      ]
     },
     "execution_count": 2,
     "metadata": {},
     "output_type": "execute_result"
    }
   ],
   "source": [
    "salesdata.columns"
   ]
  },
  {
   "cell_type": "code",
   "execution_count": 10,
   "metadata": {},
   "outputs": [
    {
     "data": {
      "text/html": [
       "<div>\n",
       "<style scoped>\n",
       "    .dataframe tbody tr th:only-of-type {\n",
       "        vertical-align: middle;\n",
       "    }\n",
       "\n",
       "    .dataframe tbody tr th {\n",
       "        vertical-align: top;\n",
       "    }\n",
       "\n",
       "    .dataframe thead th {\n",
       "        text-align: right;\n",
       "    }\n",
       "</style>\n",
       "<table border=\"1\" class=\"dataframe\">\n",
       "  <thead>\n",
       "    <tr style=\"text-align: right;\">\n",
       "      <th></th>\n",
       "      <th>SALES</th>\n",
       "      <th>YEAR_ID</th>\n",
       "      <th>PRODUCTLINE</th>\n",
       "    </tr>\n",
       "  </thead>\n",
       "  <tbody>\n",
       "    <tr>\n",
       "      <th>0</th>\n",
       "      <td>2871.00</td>\n",
       "      <td>2003</td>\n",
       "      <td>Motorcycles</td>\n",
       "    </tr>\n",
       "    <tr>\n",
       "      <th>1</th>\n",
       "      <td>2765.90</td>\n",
       "      <td>2003</td>\n",
       "      <td>Motorcycles</td>\n",
       "    </tr>\n",
       "    <tr>\n",
       "      <th>2</th>\n",
       "      <td>3884.34</td>\n",
       "      <td>2003</td>\n",
       "      <td>Motorcycles</td>\n",
       "    </tr>\n",
       "    <tr>\n",
       "      <th>3</th>\n",
       "      <td>3746.70</td>\n",
       "      <td>2003</td>\n",
       "      <td>Motorcycles</td>\n",
       "    </tr>\n",
       "    <tr>\n",
       "      <th>4</th>\n",
       "      <td>5205.27</td>\n",
       "      <td>2003</td>\n",
       "      <td>Motorcycles</td>\n",
       "    </tr>\n",
       "  </tbody>\n",
       "</table>\n",
       "</div>"
      ],
      "text/plain": [
       "     SALES  YEAR_ID  PRODUCTLINE\n",
       "0  2871.00     2003  Motorcycles\n",
       "1  2765.90     2003  Motorcycles\n",
       "2  3884.34     2003  Motorcycles\n",
       "3  3746.70     2003  Motorcycles\n",
       "4  5205.27     2003  Motorcycles"
      ]
     },
     "execution_count": 10,
     "metadata": {},
     "output_type": "execute_result"
    }
   ],
   "source": [
    "def keep_cols(DataFrame, keep_these):\n",
    "    \"\"\"Keep only the columns [keep_these] in a DataFrame, delete\n",
    "    all other columns. \n",
    "    \"\"\"\n",
    "    drop_these = list(set(list(DataFrame)) - set(keep_these))\n",
    "    return DataFrame.drop(drop_these, axis = 1)\n",
    "\n",
    "new_data = salesdata.pipe(keep_cols, ['SALES', 'YEAR_ID', 'PRODUCTLINE'])\n",
    "new_data.head()"
   ]
  },
  {
   "cell_type": "markdown",
   "metadata": {},
   "source": [
    "In this project we are only interested in the SALES price of the PRODUCTLINE. Therefore, we will filter all the data from our training set and will retain only the values for the SALES column by executing the below script:"
   ]
  },
  {
   "cell_type": "code",
   "execution_count": 11,
   "metadata": {},
   "outputs": [],
   "source": [
    "new_data_processed = new_data.iloc[:, 1:2].values"
   ]
  },
  {
   "cell_type": "markdown",
   "metadata": {},
   "source": [
    "Data Normalization\n",
    "It is a rule of thumb, to normalize or scale data whenever you use a neural network. We will use MinMaxScaler class from the sklear.preprocessing library to scale our data between 0 and 1. The feature_range parameter is used to specify the range of the scaled data. The following script exceutes exactly what we want,"
   ]
  },
  {
   "cell_type": "code",
   "execution_count": 12,
   "metadata": {},
   "outputs": [],
   "source": [
    "from sklearn.preprocessing import MinMaxScaler\n",
    "scaler = MinMaxScaler(feature_range = (0, 1))\n",
    "new_data_scaled = scaler.fit_transform(new_data_processed)"
   ]
  },
  {
   "cell_type": "markdown",
   "metadata": {},
   "source": [
    "In a time series problems, we have to predict a value at time T, based on the data from days T-N where N can be any number of steps. In this article, we are going to predict the opening stock price of the data based on the opening stock prices for the past 60 days. I have tried and tested different numbers and found that the best results are obtained when past 60 time steps are used.\n",
    "\n",
    "Our feature set should contain the opening stock price values for the past 60 days while the label or dependent variable should be the stock price at the 61st day. Execute the following script to create feature and label set."
   ]
  },
  {
   "cell_type": "code",
   "execution_count": 42,
   "metadata": {},
   "outputs": [],
   "source": [
    "features_set = []\n",
    "labels = []\n",
    "for i in range(60, 2823):\n",
    "    features_set.append(new_data_scaled[i-60:i, 0])\n",
    "    labels.append(new_data_scaled[i, 0])"
   ]
  },
  {
   "cell_type": "markdown",
   "metadata": {},
   "source": [
    "In the script above we create two lists: feature_set and labels. There are 1260 records in the training data. We execute a loop that starts from 61st record and stores all the previous 60 records to the feature_set list. The 61st record is stored in the labels list."
   ]
  },
  {
   "cell_type": "markdown",
   "metadata": {},
   "source": [
    "We need to convert both the feature_set and the labels list to the numpy array before we can use it for training. Execute the following script:"
   ]
  },
  {
   "cell_type": "code",
   "execution_count": 14,
   "metadata": {},
   "outputs": [],
   "source": [
    "features_set, labels = np.array(features_set), np.array(labels)"
   ]
  },
  {
   "cell_type": "markdown",
   "metadata": {},
   "source": [
    "To train LSTM on our data, we need to convert our data into the shape accepted by the LSTM. We need to convert our data into three-dimensional format. The first dimension is the number of records or rows in the dataset which is 2823 in our case. The second dimension is the number of time steps which is 60 while the last dimension is the number of indicators. Since we are only using one feature, i.e SALES, the number of indicators will be one. Execute the following script:"
   ]
  },
  {
   "cell_type": "code",
   "execution_count": 43,
   "metadata": {},
   "outputs": [
    {
     "ename": "AttributeError",
     "evalue": "'list' object has no attribute 'shape'",
     "output_type": "error",
     "traceback": [
      "\u001b[1;31m---------------------------------------------------------------------------\u001b[0m",
      "\u001b[1;31mAttributeError\u001b[0m                            Traceback (most recent call last)",
      "\u001b[1;32m<ipython-input-43-a4e6ccf94951>\u001b[0m in \u001b[0;36m<module>\u001b[1;34m\u001b[0m\n\u001b[1;32m----> 1\u001b[1;33m \u001b[0mfeatures_set\u001b[0m \u001b[1;33m=\u001b[0m \u001b[0mnp\u001b[0m\u001b[1;33m.\u001b[0m\u001b[0mreshape\u001b[0m\u001b[1;33m(\u001b[0m\u001b[0mfeatures_set\u001b[0m\u001b[1;33m,\u001b[0m \u001b[1;33m(\u001b[0m\u001b[0mfeatures_set\u001b[0m\u001b[1;33m.\u001b[0m\u001b[0mshape\u001b[0m\u001b[1;33m[\u001b[0m\u001b[1;36m0\u001b[0m\u001b[1;33m]\u001b[0m\u001b[1;33m,\u001b[0m \u001b[0mfeatures_set\u001b[0m\u001b[1;33m.\u001b[0m\u001b[0mshape\u001b[0m\u001b[1;33m[\u001b[0m\u001b[1;36m1\u001b[0m\u001b[1;33m]\u001b[0m\u001b[1;33m,\u001b[0m \u001b[1;36m1\u001b[0m\u001b[1;33m)\u001b[0m\u001b[1;33m)\u001b[0m\u001b[1;33m\u001b[0m\u001b[1;33m\u001b[0m\u001b[0m\n\u001b[0m",
      "\u001b[1;31mAttributeError\u001b[0m: 'list' object has no attribute 'shape'"
     ]
    }
   ],
   "source": [
    "features_set = np.reshape(features_set, (features_set.shape[0], features_set.shape[1], 1))"
   ]
  },
  {
   "cell_type": "markdown",
   "metadata": {},
   "source": [
    "With time series data, the sequence of values is important. A simple method that we can use is to split the ordered dataset into train and test datasets. The code below calculates the index of the split point and separates the data into the training datasets with 67% of the observations that we can use to train our model, leaving the remaining 33% for testing the model."
   ]
  },
  {
   "cell_type": "code",
   "execution_count": 18,
   "metadata": {},
   "outputs": [
    {
     "name": "stdout",
     "output_type": "stream",
     "text": [
      "1976 847\n"
     ]
    }
   ],
   "source": [
    "# split into train and test sets\n",
    "train_size = int(len(new_data_scaled) * 0.70)\n",
    "test_size = len(new_data_scaled) - train_size\n",
    "train, test = new_data_scaled[0:train_size,:], new_data_scaled[train_size:len(new_data_scaled),:]\n",
    "print(len(train), len(test))"
   ]
  },
  {
   "cell_type": "markdown",
   "metadata": {},
   "source": [
    "Training The LSTM\n",
    "\n",
    "We have preprocessed our data and have converted it into the desired format. now is the time to create our LSTM. The LSTM model that we are going to create will be a sequential model with multiple layers. We will add four LSTM layers to our model followed by a dense layer that predicts the future stock price."
   ]
  },
  {
   "cell_type": "code",
   "execution_count": 21,
   "metadata": {},
   "outputs": [
    {
     "name": "stdout",
     "output_type": "stream",
     "text": [
      "Collecting package metadata (current_repodata.json): ...working... done\n",
      "Solving environment: ...working... done\n",
      "\n",
      "# All requested packages already installed.\n",
      "\n",
      "\n",
      "C:\\Users\\ADMIN>set \"KERAS_BACKEND=\" \n",
      "\n",
      "C:\\Users\\ADMIN>python C:\\Users\\ADMIN\\anaconda3\\etc\\keras\\load_config.py  1>temp.txt \n",
      "\n",
      "C:\\Users\\ADMIN>set /p KERAS_BACKEND= 0<temp.txt \n",
      "\n",
      "C:\\Users\\ADMIN>del temp.txt \n",
      "\n",
      "C:\\Users\\ADMIN>python -c \"import keras\"  1>nul 2>&1 \n",
      "\n",
      "C:\\Users\\ADMIN>if errorlevel 1 (\n",
      "ver  1>nul  \n",
      " set \"KERAS_BACKEND=theano\"  \n",
      " python -c \"import keras\"  1>nul 2>&1 \n",
      ") \n",
      "\n",
      "C:\\Users\\ADMIN>SET DISTUTILS_USE_SDK=1 \n",
      "\n",
      "C:\\Users\\ADMIN>SET MSSdk=1 \n",
      "\n",
      "C:\\Users\\ADMIN>SET \"VS_VERSION=15.0\" \n",
      "\n",
      "C:\\Users\\ADMIN>SET \"VS_MAJOR=15\" \n",
      "\n",
      "C:\\Users\\ADMIN>SET \"VS_YEAR=2017\" \n",
      "\n",
      "C:\\Users\\ADMIN>set \"MSYS2_ARG_CONV_EXCL=/AI;/AL;/OUT;/out\" \n",
      "\n",
      "C:\\Users\\ADMIN>set \"MSYS2_ENV_CONV_EXCL=CL\" \n",
      "\n",
      "C:\\Users\\ADMIN>set \"PY_VCRUNTIME_REDIST=\\bin\\vcruntime140.dll\" \n",
      "\n",
      "C:\\Users\\ADMIN>set \"CXX=cl.exe\" \n",
      "\n",
      "C:\\Users\\ADMIN>set \"CC=cl.exe\" \n",
      "\n",
      "C:\\Users\\ADMIN>set \"VSINSTALLDIR=\" \n",
      "\n",
      "C:\\Users\\ADMIN>for /F \"usebackq tokens=*\" %i in (`vswhere.exe -nologo -products * -version [15.0,16.0) -property installationPath`) do (set \"VSINSTALLDIR=%i\\\" ) \n",
      "\n",
      "C:\\Users\\ADMIN>if not exist \"\" (for /F \"usebackq tokens=*\" %i in (`vswhere.exe -nologo -products * -requires Microsoft.VisualStudio.Component.VC.v141.x86.x64 -property installationPath`) do (set \"VSINSTALLDIR=%i\\\" ) ) \n",
      "\n",
      "C:\\Users\\ADMIN>if not exist \"\" (set \"VSINSTALLDIR=C:\\Program Files (x86)\\Microsoft Visual Studio\\2017\\Professional\\\" ) \n",
      "\n",
      "C:\\Users\\ADMIN>if not exist \"C:\\Program Files (x86)\\Microsoft Visual Studio\\2017\\Professional\\\" (set \"VSINSTALLDIR=C:\\Program Files (x86)\\Microsoft Visual Studio\\2017\\Community\\\" ) \n",
      "\n",
      "C:\\Users\\ADMIN>if not exist \"C:\\Program Files (x86)\\Microsoft Visual Studio\\2017\\Community\\\" (set \"VSINSTALLDIR=C:\\Program Files (x86)\\Microsoft Visual Studio\\2017\\BuildTools\\\" ) \n",
      "\n",
      "C:\\Users\\ADMIN>if not exist \"C:\\Program Files (x86)\\Microsoft Visual Studio\\2017\\BuildTools\\\" (set \"VSINSTALLDIR=C:\\Program Files (x86)\\Microsoft Visual Studio\\2017\\Enterprise\\\" ) \n",
      "\n",
      "C:\\Users\\ADMIN>IF NOT \"\" == \"\" (\n",
      "set \"INCLUDE=;\"  \n",
      " set \"LIB=;\"  \n",
      " set \"CMAKE_PREFIX_PATH=;\" \n",
      ") \n",
      "\n",
      "C:\\Users\\ADMIN>call :GetWin10SdkDir \n",
      "\n",
      "C:\\Users\\ADMIN>call :GetWin10SdkDirHelper HKLM\\SOFTWARE\\Wow6432Node  1>nul 2>&1 \n",
      "\n",
      "C:\\Users\\ADMIN>if errorlevel 1 call :GetWin10SdkDirHelper HKCU\\SOFTWARE\\Wow6432Node  1>nul 2>&1 \n",
      "\n",
      "C:\\Users\\ADMIN>if errorlevel 1 call :GetWin10SdkDirHelper HKLM\\SOFTWARE  1>nul 2>&1 \n",
      "\n",
      "C:\\Users\\ADMIN>if errorlevel 1 call :GetWin10SdkDirHelper HKCU\\SOFTWARE  1>nul 2>&1 \n",
      "\n",
      "C:\\Users\\ADMIN>if errorlevel 1 exit /B 1 \n",
      "\n",
      "C:\\Users\\ADMIN>exit /B 0 \n",
      "\n",
      "C:\\Users\\ADMIN>for /F %i in ('dir /ON /B \"\\include\\10.*\"') DO (SET WindowsSDKVer=%~i ) \n",
      "\n",
      "C:\\Users\\ADMIN>if errorlevel 1 (echo \"Didn't find any windows 10 SDK. I'm not sure if things will work, but let's try...\" )  else (echo Windows SDK version found as: \"\" ) \n",
      "Windows SDK version found as: \"\"\n",
      "\n",
      "C:\\Users\\ADMIN>IF \"win-64\" == \"win-64\" (\n",
      "set \"CMAKE_GEN=Visual Studio 15 2017 Win64\"  \n",
      " set \"BITS=64\" \n",
      ")  else (\n",
      "set \"CMAKE_GEN=Visual Studio 15 2017\"  \n",
      " set \"BITS=32\" \n",
      ") \n",
      "\n",
      "C:\\Users\\ADMIN>pushd C:\\Program Files (x86)\\Microsoft Visual Studio\\2017\\Enterprise\\ \n",
      "\n",
      "C:\\Users\\ADMIN>CALL \"VC\\Auxiliary\\Build\\vcvars64.bat\" -vcvars_ver=14.16  \n",
      "\n",
      "C:\\Users\\ADMIN>popd\n",
      "\n",
      "C:\\Users\\ADMIN>IF \"\" == \"\" SET \"CMAKE_GENERATOR=Visual Studio 15 2017 Win64\" \n",
      "\n",
      "C:\\Users\\ADMIN>call :GetWin10SdkDirHelper HKLM\\SOFTWARE\\Wow6432Node  1>nul 2>&1 \n",
      "\n",
      "C:\\Users\\ADMIN>if errorlevel 1 call :GetWin10SdkDirHelper HKCU\\SOFTWARE\\Wow6432Node  1>nul 2>&1 \n",
      "\n",
      "C:\\Users\\ADMIN>if errorlevel 1 call :GetWin10SdkDirHelper HKLM\\SOFTWARE  1>nul 2>&1 \n",
      "\n",
      "C:\\Users\\ADMIN>if errorlevel 1 call :GetWin10SdkDirHelper HKCU\\SOFTWARE  1>nul 2>&1 \n",
      "\n",
      "C:\\Users\\ADMIN>if errorlevel 1 exit /B 1 \n",
      "\n",
      "C:\\Users\\ADMIN>exit /B 0 \n",
      "\n",
      "Note: you may need to restart the kernel to use updated packages.\n"
     ]
    },
    {
     "name": "stderr",
     "output_type": "stream",
     "text": [
      "The system cannot find the file specified.\n",
      "The system cannot find the path specified.\n",
      "The system cannot find the path specified.\n"
     ]
    }
   ],
   "source": [
    "conda install -c conda-forge keras"
   ]
  },
  {
   "cell_type": "code",
   "execution_count": 22,
   "metadata": {},
   "outputs": [
    {
     "name": "stderr",
     "output_type": "stream",
     "text": [
      "Using TensorFlow backend.\n"
     ]
    }
   ],
   "source": [
    "#Let's first import the libraries that we are going to need in order to create our model:\n",
    "from keras.models import Sequential\n",
    "from keras.layers import Dense\n",
    "from keras.layers import LSTM\n",
    "from keras.layers import Dropout"
   ]
  },
  {
   "cell_type": "markdown",
   "metadata": {},
   "source": [
    "In the script above we imported the Sequential class from keras.models library and Dense, LSTM, and Dropout classes from keras.layers library.\n",
    "\n",
    "As a first step, we need to instantiate the Sequential class. This will be our model class and we will add LSTM, Dropout and Dense layers to this model. Execute the following script"
   ]
  },
  {
   "cell_type": "code",
   "execution_count": 23,
   "metadata": {},
   "outputs": [],
   "source": [
    "model = Sequential()"
   ]
  },
  {
   "cell_type": "markdown",
   "metadata": {},
   "source": [
    "Now we want to create LSTM and the Dropout Layers\n",
    "Let's add LSTM layer to the model that we just created. Execute the following script to do so:"
   ]
  },
  {
   "cell_type": "code",
   "execution_count": 24,
   "metadata": {},
   "outputs": [
    {
     "name": "stdout",
     "output_type": "stream",
     "text": [
      "WARNING:tensorflow:From C:\\Users\\ADMIN\\anaconda3\\lib\\site-packages\\tensorflow\\python\\ops\\resource_variable_ops.py:435: colocate_with (from tensorflow.python.framework.ops) is deprecated and will be removed in a future version.\n",
      "Instructions for updating:\n",
      "Colocations handled automatically by placer.\n"
     ]
    }
   ],
   "source": [
    "model.add(LSTM(units=50, return_sequences=True, input_shape=(features_set.shape[1], 1)))"
   ]
  },
  {
   "cell_type": "markdown",
   "metadata": {},
   "source": [
    "To add a layer to the sequential model, the add method is used. Inside the add method, we passed our LSTM layer. The first parameter to the LSTM layer is the number of neurons or nodes that we want in the layer. The second parameter is return_sequences, which is set to true since we will add more layers to the model. The first parameter to the input_shape is the number of time steps while the last parameter is the number of indicators.\n",
    "\n",
    "Let's now add a dropout layer to our model. Dropout layer is added to avoid over-fitting, which is a phenomenon where a machine learning model performs better on the training data compared to the test data. Execute the following script to add dropout layer."
   ]
  },
  {
   "cell_type": "code",
   "execution_count": 25,
   "metadata": {},
   "outputs": [],
   "source": [
    "model.add(Dropout(0.2))"
   ]
  },
  {
   "cell_type": "markdown",
   "metadata": {},
   "source": [
    "Let's add three more LSTM and dropout layers to our model. Run the following script."
   ]
  },
  {
   "cell_type": "code",
   "execution_count": 35,
   "metadata": {},
   "outputs": [
    {
     "name": "stdout",
     "output_type": "stream",
     "text": [
      "Model: \"sequential_4\"\n",
      "_________________________________________________________________\n",
      "Layer (type)                 Output Shape              Param #   \n",
      "=================================================================\n",
      "lstm_8 (LSTM)                (None, 22)                2112      \n",
      "_________________________________________________________________\n",
      "dense_4 (Dense)              (None, 22)                506       \n",
      "=================================================================\n",
      "Total params: 2,618\n",
      "Trainable params: 2,618\n",
      "Non-trainable params: 0\n",
      "_________________________________________________________________\n",
      "None\n"
     ]
    },
    {
     "ename": "NameError",
     "evalue": "name 'ml2_train_input' is not defined",
     "output_type": "error",
     "traceback": [
      "\u001b[1;31m---------------------------------------------------------------------------\u001b[0m",
      "\u001b[1;31mNameError\u001b[0m                                 Traceback (most recent call last)",
      "\u001b[1;32m<ipython-input-35-92790ba29515>\u001b[0m in \u001b[0;36m<module>\u001b[1;34m\u001b[0m\n\u001b[0;32m      4\u001b[0m \u001b[0mmodel\u001b[0m\u001b[1;33m.\u001b[0m\u001b[0mcompile\u001b[0m\u001b[1;33m(\u001b[0m\u001b[0mloss\u001b[0m\u001b[1;33m=\u001b[0m\u001b[1;34m'categorical_crossentropy'\u001b[0m\u001b[1;33m,\u001b[0m \u001b[0moptimizer\u001b[0m\u001b[1;33m=\u001b[0m\u001b[1;34m'adam'\u001b[0m\u001b[1;33m,\u001b[0m \u001b[0mmetrics\u001b[0m\u001b[1;33m=\u001b[0m\u001b[1;33m[\u001b[0m\u001b[1;34m'accuracy'\u001b[0m\u001b[1;33m]\u001b[0m\u001b[1;33m)\u001b[0m\u001b[1;33m\u001b[0m\u001b[1;33m\u001b[0m\u001b[0m\n\u001b[0;32m      5\u001b[0m \u001b[0mprint\u001b[0m\u001b[1;33m(\u001b[0m\u001b[0mmodel\u001b[0m\u001b[1;33m.\u001b[0m\u001b[0msummary\u001b[0m\u001b[1;33m(\u001b[0m\u001b[1;33m)\u001b[0m\u001b[1;33m)\u001b[0m\u001b[1;33m\u001b[0m\u001b[1;33m\u001b[0m\u001b[0m\n\u001b[1;32m----> 6\u001b[1;33m \u001b[0mmodel\u001b[0m\u001b[1;33m.\u001b[0m\u001b[0mfit\u001b[0m\u001b[1;33m(\u001b[0m\u001b[0mml2_train_input\u001b[0m\u001b[1;33m,\u001b[0m \u001b[0mml2_train_output_enc\u001b[0m\u001b[1;33m,\u001b[0m \u001b[0mepochs\u001b[0m\u001b[1;33m=\u001b[0m\u001b[1;36m2\u001b[0m\u001b[1;33m,\u001b[0m \u001b[0mbatch_size\u001b[0m\u001b[1;33m=\u001b[0m\u001b[1;36m500\u001b[0m\u001b[1;33m)\u001b[0m\u001b[1;33m\u001b[0m\u001b[1;33m\u001b[0m\u001b[0m\n\u001b[0m",
      "\u001b[1;31mNameError\u001b[0m: name 'ml2_train_input' is not defined"
     ]
    }
   ],
   "source": [
    "model = Sequential()\n",
    "model.add(LSTM(22, input_shape=(360,1)))\n",
    "model.add(Dense(22, activation='softmax'))\n",
    "model.compile(loss='categorical_crossentropy', optimizer='adam', metrics=['accuracy'])\n",
    "print(model.summary())\n",
    "model.fit(ml2_train_input, ml2_train_output_enc, epochs=2, batch_size=500)"
   ]
  },
  {
   "cell_type": "markdown",
   "metadata": {},
   "source": [
    "Creating Dense Layer\n",
    "To make our model more robust, we add a dense layer at the end of the model. The number of neurons in the dense layer will be set to 1 since we want to predict a single value in the output."
   ]
  },
  {
   "cell_type": "code",
   "execution_count": 36,
   "metadata": {},
   "outputs": [],
   "source": [
    "model.add(Dense(units = 1))"
   ]
  },
  {
   "cell_type": "markdown",
   "metadata": {},
   "source": [
    "Model Compilation\n",
    "\n",
    "Finally, we need to compile our LSTM before we can train it on the training data. The following script compiles the our model."
   ]
  },
  {
   "cell_type": "code",
   "execution_count": 37,
   "metadata": {},
   "outputs": [],
   "source": [
    "model.compile(optimizer = 'adam', loss = 'mean_squared_error')"
   ]
  },
  {
   "cell_type": "markdown",
   "metadata": {},
   "source": [
    "We call the compile method on the Sequential model object which is \"model\" in our case. We use the mean squared error as loss function and to reduce the loss or to optimize the algorithm, we use the adam optimizer."
   ]
  },
  {
   "cell_type": "markdown",
   "metadata": {},
   "source": [
    "Now we want to train the LSTM model\n",
    "\n",
    "To do so, we call the fit method on the model and pass it our training features and labels as shown below:"
   ]
  },
  {
   "cell_type": "code",
   "execution_count": 30,
   "metadata": {},
   "outputs": [
    {
     "name": "stdout",
     "output_type": "stream",
     "text": [
      "WARNING:tensorflow:From C:\\Users\\ADMIN\\anaconda3\\lib\\site-packages\\tensorflow\\python\\ops\\math_ops.py:3066: to_int32 (from tensorflow.python.ops.math_ops) is deprecated and will be removed in a future version.\n",
      "Instructions for updating:\n",
      "Use tf.cast instead.\n",
      "Epoch 1/100\n",
      "2763/2763 [==============================] - 14s 5ms/step - loss: 0.1253\n",
      "Epoch 2/100\n",
      "2763/2763 [==============================] - 19s 7ms/step - loss: 0.0786\n",
      "Epoch 3/100\n",
      "2763/2763 [==============================] - 15s 5ms/step - loss: 0.0628\n",
      "Epoch 4/100\n",
      "2763/2763 [==============================] - 12s 4ms/step - loss: 0.0501\n",
      "Epoch 5/100\n",
      "2763/2763 [==============================] - 11s 4ms/step - loss: 0.0501\n",
      "Epoch 6/100\n",
      "2763/2763 [==============================] - 12s 4ms/step - loss: 0.0470\n",
      "Epoch 7/100\n",
      "2763/2763 [==============================] - 11s 4ms/step - loss: 0.0434\n",
      "Epoch 8/100\n",
      "2763/2763 [==============================] - 12s 4ms/step - loss: 0.0444\n",
      "Epoch 9/100\n",
      "2763/2763 [==============================] - 11s 4ms/step - loss: 0.0412\n",
      "Epoch 10/100\n",
      "2763/2763 [==============================] - 12s 4ms/step - loss: 0.0400\n",
      "Epoch 11/100\n",
      "2763/2763 [==============================] - 12s 4ms/step - loss: 0.0370\n",
      "Epoch 12/100\n",
      "2763/2763 [==============================] - 11s 4ms/step - loss: 0.0356\n",
      "Epoch 13/100\n",
      "2763/2763 [==============================] - 11s 4ms/step - loss: 0.0348\n",
      "Epoch 14/100\n",
      "2763/2763 [==============================] - 12s 4ms/step - loss: 0.0352\n",
      "Epoch 15/100\n",
      "2763/2763 [==============================] - 11s 4ms/step - loss: 0.0356\n",
      "Epoch 16/100\n",
      "2763/2763 [==============================] - 11s 4ms/step - loss: 0.0361\n",
      "Epoch 17/100\n",
      "2763/2763 [==============================] - 12s 4ms/step - loss: 0.0336\n",
      "Epoch 18/100\n",
      "2763/2763 [==============================] - 12s 4ms/step - loss: 0.0347\n",
      "Epoch 19/100\n",
      "2763/2763 [==============================] - 11s 4ms/step - loss: 0.0332\n",
      "Epoch 20/100\n",
      "2763/2763 [==============================] - 11s 4ms/step - loss: 0.0370\n",
      "Epoch 21/100\n",
      "2763/2763 [==============================] - 12s 4ms/step - loss: 0.0329\n",
      "Epoch 22/100\n",
      "2763/2763 [==============================] - 12s 4ms/step - loss: 0.0323\n",
      "Epoch 23/100\n",
      "2763/2763 [==============================] - 11s 4ms/step - loss: 0.0337\n",
      "Epoch 24/100\n",
      "2763/2763 [==============================] - 12s 4ms/step - loss: 0.0314\n",
      "Epoch 25/100\n",
      "2763/2763 [==============================] - 12s 4ms/step - loss: 0.0341\n",
      "Epoch 26/100\n",
      "2763/2763 [==============================] - 12s 4ms/step - loss: 0.0315\n",
      "Epoch 27/100\n",
      "2763/2763 [==============================] - 11s 4ms/step - loss: 0.0306\n",
      "Epoch 28/100\n",
      "2763/2763 [==============================] - 12s 4ms/step - loss: 0.0321\n",
      "Epoch 29/100\n",
      "2763/2763 [==============================] - 12s 4ms/step - loss: 0.0309\n",
      "Epoch 30/100\n",
      "2763/2763 [==============================] - 12s 4ms/step - loss: 0.0323\n",
      "Epoch 31/100\n",
      "2763/2763 [==============================] - 11s 4ms/step - loss: 0.0300\n",
      "Epoch 32/100\n",
      "2763/2763 [==============================] - 11s 4ms/step - loss: 0.0281\n",
      "Epoch 33/100\n",
      "2763/2763 [==============================] - 11s 4ms/step - loss: 0.0288\n",
      "Epoch 34/100\n",
      "2763/2763 [==============================] - 11s 4ms/step - loss: 0.0304\n",
      "Epoch 35/100\n",
      "2763/2763 [==============================] - 11s 4ms/step - loss: 0.0289\n",
      "Epoch 36/100\n",
      "2763/2763 [==============================] - 12s 4ms/step - loss: 0.0296\n",
      "Epoch 37/100\n",
      "2763/2763 [==============================] - 11s 4ms/step - loss: 0.0283\n",
      "Epoch 38/100\n",
      "2763/2763 [==============================] - 11s 4ms/step - loss: 0.0292\n",
      "Epoch 39/100\n",
      "2763/2763 [==============================] - 11s 4ms/step - loss: 0.0284\n",
      "Epoch 40/100\n",
      "2763/2763 [==============================] - 11s 4ms/step - loss: 0.0298\n",
      "Epoch 41/100\n",
      "2763/2763 [==============================] - 11s 4ms/step - loss: 0.0288\n",
      "Epoch 42/100\n",
      "2763/2763 [==============================] - 11s 4ms/step - loss: 0.0280\n",
      "Epoch 43/100\n",
      "2763/2763 [==============================] - 11s 4ms/step - loss: 0.0279\n",
      "Epoch 44/100\n",
      "2763/2763 [==============================] - 11s 4ms/step - loss: 0.0273\n",
      "Epoch 45/100\n",
      "2763/2763 [==============================] - 12s 4ms/step - loss: 0.0272\n",
      "Epoch 46/100\n",
      "2763/2763 [==============================] - 12s 4ms/step - loss: 0.0258\n",
      "Epoch 47/100\n",
      "2763/2763 [==============================] - 11s 4ms/step - loss: 0.0262\n",
      "Epoch 48/100\n",
      "2763/2763 [==============================] - 11s 4ms/step - loss: 0.0274\n",
      "Epoch 49/100\n",
      "2763/2763 [==============================] - 11s 4ms/step - loss: 0.0268\n",
      "Epoch 50/100\n",
      "2763/2763 [==============================] - 11s 4ms/step - loss: 0.0262\n",
      "Epoch 51/100\n",
      "2763/2763 [==============================] - 11s 4ms/step - loss: 0.0276\n",
      "Epoch 52/100\n",
      "2763/2763 [==============================] - 11s 4ms/step - loss: 0.0268\n",
      "Epoch 53/100\n",
      "2763/2763 [==============================] - 11s 4ms/step - loss: 0.0264\n",
      "Epoch 54/100\n",
      "2763/2763 [==============================] - 11s 4ms/step - loss: 0.0267\n",
      "Epoch 55/100\n",
      "2763/2763 [==============================] - 12s 4ms/step - loss: 0.0259\n",
      "Epoch 56/100\n",
      "2763/2763 [==============================] - 11s 4ms/step - loss: 0.0252\n",
      "Epoch 57/100\n",
      "2763/2763 [==============================] - 11s 4ms/step - loss: 0.0264\n",
      "Epoch 58/100\n",
      "2763/2763 [==============================] - 11s 4ms/step - loss: 0.0262\n",
      "Epoch 59/100\n",
      "2763/2763 [==============================] - 12s 4ms/step - loss: 0.0268\n",
      "Epoch 60/100\n",
      "2763/2763 [==============================] - 11s 4ms/step - loss: 0.0267\n",
      "Epoch 61/100\n",
      "2763/2763 [==============================] - 11s 4ms/step - loss: 0.0263\n",
      "Epoch 62/100\n",
      "2763/2763 [==============================] - 12s 5ms/step - loss: 0.0262: 2s\n",
      "Epoch 63/100\n",
      "2763/2763 [==============================] - 13s 5ms/step - loss: 0.0249\n",
      "Epoch 64/100\n",
      "2763/2763 [==============================] - 12s 4ms/step - loss: 0.0258\n",
      "Epoch 65/100\n",
      "2763/2763 [==============================] - 10s 4ms/step - loss: 0.0253\n",
      "Epoch 66/100\n",
      "2763/2763 [==============================] - 11s 4ms/step - loss: 0.0246\n",
      "Epoch 67/100\n",
      "2763/2763 [==============================] - 11s 4ms/step - loss: 0.0254\n",
      "Epoch 68/100\n",
      "2763/2763 [==============================] - 10s 4ms/step - loss: 0.0242\n",
      "Epoch 69/100\n",
      "2763/2763 [==============================] - 11s 4ms/step - loss: 0.0244\n",
      "Epoch 70/100\n",
      "2763/2763 [==============================] - 11s 4ms/step - loss: 0.0257\n",
      "Epoch 71/100\n",
      "2763/2763 [==============================] - 10s 4ms/step - loss: 0.0241\n",
      "Epoch 72/100\n",
      "2763/2763 [==============================] - 11s 4ms/step - loss: 0.0258\n",
      "Epoch 73/100\n",
      "2763/2763 [==============================] - 11s 4ms/step - loss: 0.0253\n",
      "Epoch 74/100\n",
      "2763/2763 [==============================] - 11s 4ms/step - loss: 0.0249\n",
      "Epoch 75/100\n",
      "2763/2763 [==============================] - 11s 4ms/step - loss: 0.0240\n",
      "Epoch 76/100\n",
      "2763/2763 [==============================] - 11s 4ms/step - loss: 0.0250\n",
      "Epoch 77/100\n",
      "2763/2763 [==============================] - 10s 4ms/step - loss: 0.0238\n",
      "Epoch 78/100\n",
      "2763/2763 [==============================] - 11s 4ms/step - loss: 0.0244\n",
      "Epoch 79/100\n",
      "2763/2763 [==============================] - 11s 4ms/step - loss: 0.0245\n",
      "Epoch 80/100\n",
      "2763/2763 [==============================] - 10s 4ms/step - loss: 0.0238\n",
      "Epoch 81/100\n",
      "2763/2763 [==============================] - 11s 4ms/step - loss: 0.0239\n",
      "Epoch 82/100\n",
      "2763/2763 [==============================] - 11s 4ms/step - loss: 0.0250\n",
      "Epoch 83/100\n",
      "2763/2763 [==============================] - 11s 4ms/step - loss: 0.0239\n",
      "Epoch 84/100\n",
      "2763/2763 [==============================] - 11s 4ms/step - loss: 0.0232\n",
      "Epoch 85/100\n",
      "2763/2763 [==============================] - 11s 4ms/step - loss: 0.0235\n",
      "Epoch 86/100\n",
      "2763/2763 [==============================] - 11s 4ms/step - loss: 0.0247\n",
      "Epoch 87/100\n",
      "2763/2763 [==============================] - 11s 4ms/step - loss: 0.0240\n",
      "Epoch 88/100\n",
      "2763/2763 [==============================] - 11s 4ms/step - loss: 0.0240\n",
      "Epoch 89/100\n",
      "2763/2763 [==============================] - 10s 4ms/step - loss: 0.0251\n",
      "Epoch 90/100\n",
      "2763/2763 [==============================] - 12s 4ms/step - loss: 0.0232\n",
      "Epoch 91/100\n",
      "2763/2763 [==============================] - 11s 4ms/step - loss: 0.0240\n",
      "Epoch 92/100\n",
      "2763/2763 [==============================] - 10s 4ms/step - loss: 0.0240\n",
      "Epoch 93/100\n",
      "2763/2763 [==============================] - 11s 4ms/step - loss: 0.0228\n",
      "Epoch 94/100\n",
      "2763/2763 [==============================] - 11s 4ms/step - loss: 0.0233\n",
      "Epoch 95/100\n",
      "2763/2763 [==============================] - 11s 4ms/step - loss: 0.0228\n",
      "Epoch 96/100\n",
      "2763/2763 [==============================] - 11s 4ms/step - loss: 0.0255\n",
      "Epoch 97/100\n",
      "2763/2763 [==============================] - 11s 4ms/step - loss: 0.0225\n",
      "Epoch 98/100\n",
      "2763/2763 [==============================] - 11s 4ms/step - loss: 0.0233\n",
      "Epoch 99/100\n",
      "2763/2763 [==============================] - 11s 4ms/step - loss: 0.0230\n",
      "Epoch 100/100\n",
      "2763/2763 [==============================] - 11s 4ms/step - loss: 0.0235\n"
     ]
    },
    {
     "data": {
      "text/plain": [
       "<keras.callbacks.callbacks.History at 0x837054b2c8>"
      ]
     },
     "execution_count": 30,
     "metadata": {},
     "output_type": "execute_result"
    }
   ],
   "source": [
    "model.fit(features_set, labels, epochs = 100, batch_size = 32)"
   ]
  },
  {
   "cell_type": "markdown",
   "metadata": {},
   "source": [
    "Making Predictions\n",
    "\n",
    "Now is the time to see the magic. We preprocessed our test data and now we can use it to make predictions. To do so, we simply need to call the predict method on the model that we trained. Execute the following script:"
   ]
  },
  {
   "cell_type": "code",
   "execution_count": 38,
   "metadata": {},
   "outputs": [
    {
     "ename": "NameError",
     "evalue": "name 'test_features' is not defined",
     "output_type": "error",
     "traceback": [
      "\u001b[1;31m---------------------------------------------------------------------------\u001b[0m",
      "\u001b[1;31mNameError\u001b[0m                                 Traceback (most recent call last)",
      "\u001b[1;32m<ipython-input-38-efcc87861148>\u001b[0m in \u001b[0;36m<module>\u001b[1;34m\u001b[0m\n\u001b[1;32m----> 1\u001b[1;33m \u001b[0mpredictions\u001b[0m \u001b[1;33m=\u001b[0m \u001b[0mmodel\u001b[0m\u001b[1;33m.\u001b[0m\u001b[0mpredict\u001b[0m\u001b[1;33m(\u001b[0m\u001b[0mtest_features\u001b[0m\u001b[1;33m)\u001b[0m\u001b[1;33m\u001b[0m\u001b[1;33m\u001b[0m\u001b[0m\n\u001b[0m",
      "\u001b[1;31mNameError\u001b[0m: name 'test_features' is not defined"
     ]
    }
   ],
   "source": [
    "predictions = model.predict(test_features)"
   ]
  },
  {
   "cell_type": "markdown",
   "metadata": {},
   "source": [
    "Since we scaled our data, the predictions made by the LSTM are also scaled. We need to reverse the scaled prediction back to their actual values. To do so, we can use the ìnverse_transform method of the scaler object we created during training. Take a look at the following script:"
   ]
  },
  {
   "cell_type": "markdown",
   "metadata": {},
   "source": [
    "Finally, let's see how well did our algorithm predicted the future stock prices. Execute the following script:"
   ]
  },
  {
   "cell_type": "code",
   "execution_count": 41,
   "metadata": {},
   "outputs": [
    {
     "ename": "NameError",
     "evalue": "name 'predictions' is not defined",
     "output_type": "error",
     "traceback": [
      "\u001b[1;31m---------------------------------------------------------------------------\u001b[0m",
      "\u001b[1;31mNameError\u001b[0m                                 Traceback (most recent call last)",
      "\u001b[1;32m<ipython-input-41-87dfffc176da>\u001b[0m in \u001b[0;36m<module>\u001b[1;34m\u001b[0m\n\u001b[0;32m      1\u001b[0m \u001b[0mplt\u001b[0m\u001b[1;33m.\u001b[0m\u001b[0mfigure\u001b[0m\u001b[1;33m(\u001b[0m\u001b[0mfigsize\u001b[0m\u001b[1;33m=\u001b[0m\u001b[1;33m(\u001b[0m\u001b[1;36m10\u001b[0m\u001b[1;33m,\u001b[0m\u001b[1;36m6\u001b[0m\u001b[1;33m)\u001b[0m\u001b[1;33m)\u001b[0m\u001b[1;33m\u001b[0m\u001b[1;33m\u001b[0m\u001b[0m\n\u001b[0;32m      2\u001b[0m \u001b[0mplt\u001b[0m\u001b[1;33m.\u001b[0m\u001b[0mplot\u001b[0m\u001b[1;33m(\u001b[0m\u001b[0mnew_data_scaled\u001b[0m\u001b[1;33m,\u001b[0m \u001b[0mcolor\u001b[0m\u001b[1;33m=\u001b[0m\u001b[1;34m'blue'\u001b[0m\u001b[1;33m,\u001b[0m \u001b[0mlabel\u001b[0m\u001b[1;33m=\u001b[0m\u001b[1;34m'Actual Apple Stock Price'\u001b[0m\u001b[1;33m)\u001b[0m\u001b[1;33m\u001b[0m\u001b[1;33m\u001b[0m\u001b[0m\n\u001b[1;32m----> 3\u001b[1;33m \u001b[0mplt\u001b[0m\u001b[1;33m.\u001b[0m\u001b[0mplot\u001b[0m\u001b[1;33m(\u001b[0m\u001b[0mpredictions\u001b[0m \u001b[1;33m,\u001b[0m \u001b[0mcolor\u001b[0m\u001b[1;33m=\u001b[0m\u001b[1;34m'red'\u001b[0m\u001b[1;33m,\u001b[0m \u001b[0mlabel\u001b[0m\u001b[1;33m=\u001b[0m\u001b[1;34m'Predicted Apple Stock Price'\u001b[0m\u001b[1;33m)\u001b[0m\u001b[1;33m\u001b[0m\u001b[1;33m\u001b[0m\u001b[0m\n\u001b[0m\u001b[0;32m      4\u001b[0m \u001b[0mplt\u001b[0m\u001b[1;33m.\u001b[0m\u001b[0mtitle\u001b[0m\u001b[1;33m(\u001b[0m\u001b[1;34m'Apple Stock Price Prediction'\u001b[0m\u001b[1;33m)\u001b[0m\u001b[1;33m\u001b[0m\u001b[1;33m\u001b[0m\u001b[0m\n\u001b[0;32m      5\u001b[0m \u001b[0mplt\u001b[0m\u001b[1;33m.\u001b[0m\u001b[0mxlabel\u001b[0m\u001b[1;33m(\u001b[0m\u001b[1;34m'Date'\u001b[0m\u001b[1;33m)\u001b[0m\u001b[1;33m\u001b[0m\u001b[1;33m\u001b[0m\u001b[0m\n",
      "\u001b[1;31mNameError\u001b[0m: name 'predictions' is not defined"
     ]
    },
    {
     "data": {
      "image/png": "[encoded data removed]",
      "text/plain": [
       "<Figure size 720x432 with 1 Axes>"
      ]
     },
     "metadata": {
      "needs_background": "light"
     },
     "output_type": "display_data"
    }
   ],
   "source": [
    "plt.figure(figsize=(10,6))\n",
    "plt.plot(new_data_scaled, color='blue', label='Actual Apple Stock Price')\n",
    "plt.plot(predictions , color='red', label='Predicted Apple Stock Price')\n",
    "plt.title('Apple Stock Price Prediction')\n",
    "plt.xlabel('Date')\n",
    "plt.ylabel('Apple Stock Price')\n",
    "plt.legend()\n",
    "plt.show()"
   ]
  },
  {
   "cell_type": "code",
   "execution_count": null,
   "metadata": {},
   "outputs": [],
   "source": []
  }
 ],
 "metadata": {
  "kernelspec": {
   "display_name": "Python 3",
   "language": "python",
   "name": "python3"
  },
  "language_info": {
   "codemirror_mode": {
    "name": "ipython",
    "version": 3
   },
   "file_extension": ".py",
   "mimetype": "text/x-python",
   "name": "python",
   "nbconvert_exporter": "python",
   "pygments_lexer": "ipython3",
   "version": "3.8.3"
  }
 },
 "nbformat": 4,
 "nbformat_minor": 4
}
